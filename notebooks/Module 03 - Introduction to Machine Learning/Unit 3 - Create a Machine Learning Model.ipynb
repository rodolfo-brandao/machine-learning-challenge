{
 "cells": [
  {
   "cell_type": "markdown",
   "metadata": {},
   "source": [
    "# Exercise: Train and Run Your First Model\n",
    "\n",
    "We've learned that models are computer code that processes information to make a prediction or a decision. Here, we'll train a model to guess a comfortable boot size for a dog, based on the size of the harness that fits them.\n",
    "\n",
    "In the examples below, there is no need to edit any code. Try to read it, understand it, then press the run button to run it. As always with these notebooks, it is vitally important that these code blocks are run in the correct order, and nothing is missed.\n",
    "\n",
    "Note: If you've never used the Jupyter Notebooks environment before, there are a few things you should be aware of:\n",
    "- Notebooks are made up of cells. Some cells (like this one) contain markdown text, while others (like the one beneath this one) contain code.\n",
    "- You can run each code cell by using the ► Run button. the ► Run button will show up when you hover over the cell.\n",
    "- The output from each code cell will be displayed immediately below the cell.\n",
    "- Even though the code cells can be run individually, some variables used in the code are global to the notebook. That means that you should run all of the code cells in order. There may be dependencies between code cells, so if you skip a cell, subsequent cells might not run correctly."
   ]
  },
  {
   "cell_type": "markdown",
   "metadata": {},
   "source": [
    "## Setup"
   ]
  },
  {
   "cell_type": "code",
   "execution_count": null,
   "metadata": {},
   "outputs": [],
   "source": [
    "# First, upgrade pip:\n",
    "%pip install --upgrade pip\n",
    "\n",
    "# Install required packages:\n",
    "%pip install statsmodels\n",
    "%pip install plotly\n",
    "\n",
    "# If using macOS:\n",
    "!brew install wget\n",
    "\n",
    "!wget https://raw.githubusercontent.com/MicrosoftDocs/mslearn-introduction-to-machine-learning/main/graphing.py\n",
    "!wget https://raw.githubusercontent.com/MicrosoftDocs/mslearn-introduction-to-machine-learning/main/Data/doggy-boot-harness.csv"
   ]
  },
  {
   "cell_type": "markdown",
   "metadata": {},
   "source": [
    "## Imports"
   ]
  },
  {
   "cell_type": "code",
   "execution_count": 13,
   "metadata": {},
   "outputs": [],
   "source": [
    "import pandas as pd\n",
    "import statsmodels.formula.api as smf\n",
    "import graphing"
   ]
  },
  {
   "cell_type": "markdown",
   "metadata": {},
   "source": [
    "## Preparing Data\n",
    "The first thing we do with a model is load data. We'll cover this in more detail in a later exercise. For now, we'll just write our data directly in our code. Review and run the following code to get started:"
   ]
  },
  {
   "cell_type": "code",
   "execution_count": null,
   "metadata": {},
   "outputs": [],
   "source": [
    "# Make a dictionary of data for boot sizes and harness size in cm:\n",
    "data = {\n",
    "    'boot_size' : [ \n",
    "        39, 38, 37, 39, 38, 35, 37, 36, 35, 40,\n",
    "        40, 36, 38, 39, 42, 42, 36, 36, 35, 41,\n",
    "        42, 38, 37, 35, 40, 36, 35, 39, 41, 37,\n",
    "        35, 41, 39, 41, 42, 42, 36, 37, 37, 39,\n",
    "        42, 35, 36, 41, 41, 41, 39, 39, 35, 39\n",
    "    ],\n",
    "    'harness_size': [\n",
    "        58, 58, 52, 58, 57, 52, 55, 53, 49, 54,\n",
    "        59, 56, 53, 58, 57, 58, 56, 51, 50, 59,\n",
    "        59, 59, 55, 50, 55, 52, 53, 54, 61, 56,\n",
    "        55, 60, 57, 56, 61, 58, 53, 57, 57, 55,\n",
    "        60, 51, 52, 56, 55, 57, 58, 57, 51, 59\n",
    "    ]\n",
    "}\n",
    "\n",
    "# Convert it into a table using pandas:\n",
    "dataset = pd.DataFrame(data)\n",
    "\n",
    "# Print the data.\n",
    "# In normal python we would write print(dataset), but in Jupyter notebooks,\n",
    "# if we simple write the name of the variable and it is printed nicely:\n",
    "dataset"
   ]
  },
  {
   "cell_type": "markdown",
   "metadata": {},
   "source": [
    "As you can see, we have the sizes of boots and harnesses for 50 avalanche dogs.\n",
    "\n",
    "We want to use harness size to estimate boot size. This means harness_size is our input. We want a model that will process the input and make its own estimations of the boot size (output)."
   ]
  },
  {
   "cell_type": "markdown",
   "metadata": {},
   "source": [
    "# Select a Model\n",
    "The first thing we must do is select a model. We're just getting started, so we'll start with a very simple model called OLS. This is just a straight line (sometimes called a trendline).\n",
    "\n",
    "Let's use an existing library to create our model, but we won't train it yet."
   ]
  },
  {
   "cell_type": "code",
   "execution_count": 7,
   "metadata": {},
   "outputs": [
    {
     "name": "stdout",
     "output_type": "stream",
     "text": [
      "Model selected but it does not have parameters set. We need to train it!\n"
     ]
    }
   ],
   "source": [
    "# First, we define our formula using a special syntax. This says that boot_size is explained by harness_size:\n",
    "formula = \"boot_size ~ harness_size\"\n",
    "\n",
    "# Create the model, but don't train it yet:\n",
    "model = smf.ols(formula = formula, data = dataset)\n",
    "\n",
    "# Note that we have created our model but it does not have internal parameters set yet\n",
    "if not hasattr(model, 'params'):\n",
    "    print(\"Model selected but it does not have parameters set. We need to train it!\")"
   ]
  },
  {
   "cell_type": "markdown",
   "metadata": {},
   "source": [
    "# Train our Model\n",
    "OLS models have two parameters (a slope and an offset), but these haven't been set in our model yet. We need to train (fit) our model to find these values so that the model can reliably estimate dogs' boot size based on their harness size.\n",
    "\n",
    "The following code fits our model to data you've now seen:"
   ]
  },
  {
   "cell_type": "code",
   "execution_count": 8,
   "metadata": {},
   "outputs": [
    {
     "name": "stdout",
     "output_type": "stream",
     "text": [
      "The following model parameters have been found:\n",
      "Line slope: 0.5859254167382707\n",
      "Line Intercept: 5.719109812682594\n"
     ]
    }
   ],
   "source": [
    "# Train (fit) the model so that it creates a line that\n",
    "# fits our data. This method does the hard work for us.\n",
    "# We will look at how this method works in a later unit:\n",
    "fitted_model = model.fit()\n",
    "\n",
    "# Print information about our model now it has been fit:\n",
    "print(\n",
    "        \"The following model parameters have been found:\\n\" +\n",
    "        f\"Line slope: {fitted_model.params[1]}\\n\" +\n",
    "        f\"Line Intercept: {fitted_model.params[0]}\"\n",
    ")"
   ]
  },
  {
   "cell_type": "markdown",
   "metadata": {},
   "source": [
    "Notice how training the model set its parameters.\n",
    "\n",
    "We could interpret these directly, but it's simpler to see it as a graph:"
   ]
  },
  {
   "cell_type": "code",
   "execution_count": 14,
   "metadata": {},
   "outputs": [
    {
     "data": {
      "application/vnd.plotly.v1+json": {
       "config": {
        "plotlyServerURL": "https://plot.ly"
       },
       "data": [
        {
         "hovertemplate": "harness size=%{x}<br>boot size=%{y}<extra></extra>",
         "legendgroup": "",
         "marker": {
          "color": "#636efa",
          "size": 19,
          "symbol": "circle"
         },
         "mode": "markers",
         "name": "",
         "orientation": "v",
         "showlegend": false,
         "type": "scatter",
         "x": [
          58,
          58,
          52,
          58,
          57,
          52,
          55,
          53,
          49,
          54,
          59,
          56,
          53,
          58,
          57,
          58,
          56,
          51,
          50,
          59,
          59,
          59,
          55,
          50,
          55,
          52,
          53,
          54,
          61,
          56,
          55,
          60,
          57,
          56,
          61,
          58,
          53,
          57,
          57,
          55,
          60,
          51,
          52,
          56,
          55,
          57,
          58,
          57,
          51,
          59
         ],
         "xaxis": "x",
         "y": [
          39,
          38,
          37,
          39,
          38,
          35,
          37,
          36,
          35,
          40,
          40,
          36,
          38,
          39,
          42,
          42,
          36,
          36,
          35,
          41,
          42,
          38,
          37,
          35,
          40,
          36,
          35,
          39,
          41,
          37,
          35,
          41,
          39,
          41,
          42,
          42,
          36,
          37,
          37,
          39,
          42,
          35,
          36,
          41,
          41,
          41,
          39,
          39,
          35,
          39
         ],
         "yaxis": "y"
        }
       ],
       "layout": {
        "legend": {
         "tracegroupgap": 0
        },
        "shapes": [
         {
          "line": {
           "color": "rgb(228,26,28)"
          },
          "path": "M49.0 34.42945523285786 L 49.06030150753769 34.46478741879182 L 49.120603015075375 34.50011960472579 L 49.18090452261306 34.53545179065976 L 49.24120603015076 34.570783976593724 L 49.301507537688444 34.60611616252769 L 49.36180904522613 34.64144834846166 L 49.42211055276382 34.67678053439562 L 49.482412060301506 34.712112720329586 L 49.54271356783919 34.74744490626355 L 49.60301507537689 34.78277709219752 L 49.663316582914575 34.81810927813149 L 49.72361809045226 34.853441464065455 L 49.78391959798995 34.888773649999415 L 49.84422110552764 34.92410583593338 L 49.904522613065325 34.95943802186735 L 49.96482412060301 34.99477020780132 L 50.02512562814071 35.030102393735284 L 50.085427135678394 35.06543457966925 L 50.14572864321608 35.10076676560322 L 50.20603015075377 35.13609895153718 L 50.266331658291456 35.171431137471146 L 50.32663316582914 35.20676332340511 L 50.38693467336683 35.24209550933907 L 50.447236180904525 35.27742769527305 L 50.50753768844221 35.312759881207015 L 50.5678391959799 35.348092067140975 L 50.62814070351759 35.38342425307494 L 50.688442211055275 35.41875643900891 L 50.74874371859296 35.45408862494288 L 50.80904522613065 35.48942081087684 L 50.869346733668344 35.52475299681081 L 50.92964824120603 35.56008518274477 L 50.98994974874372 35.59541736867874 L 51.050251256281406 35.630749554612706 L 51.11055276381909 35.66608174054667 L 51.17085427135678 35.70141392648063 L 51.231155778894475 35.73674611241461 L 51.29145728643216 35.77207829834857 L 51.35175879396985 35.807410484282535 L 51.41206030150754 35.8427426702165 L 51.472361809045225 35.87807485615047 L 51.53266331658291 35.91340704208443 L 51.5929648241206 35.9487392280184 L 51.653266331658294 35.984071413952364 L 51.71356783919598 36.01940359988633 L 51.77386934673367 36.0547357858203 L 51.834170854271356 36.090067971754266 L 51.89447236180904 36.125400157688226 L 51.95477386934673 36.16073234362219 L 52.015075376884425 36.19606452955617 L 52.07537688442211 36.23139671549013 L 52.1356783919598 36.266728901424095 L 52.19597989949749 36.30206108735806 L 52.256281407035175 36.33739327329203 L 52.31658291457286 36.37272545922599 L 52.37688442211055 36.40805764515996 L 52.437185929648244 36.443389831093924 L 52.49748743718593 36.47872201702789 L 52.55778894472362 36.51405420296186 L 52.618090452261306 36.549386388895826 L 52.678391959798994 36.584718574829786 L 52.73869346733668 36.62005076076375 L 52.798994974874375 36.65538294669772 L 52.85929648241206 36.69071513263169 L 52.91959798994975 36.726047318565655 L 52.97989949748744 36.76137950449962 L 53.040201005025125 36.79671169043358 L 53.10050251256281 36.83204387636755 L 53.1608040201005 36.86737606230152 L 53.22110552763819 36.902708248235484 L 53.28140703517588 36.93804043416945 L 53.34170854271357 36.97337262010342 L 53.402010050251256 37.00870480603738 L 53.462311557788944 37.044036991971346 L 53.52261306532663 37.07936917790531 L 53.58291457286432 37.11470136383928 L 53.64321608040201 37.15003354977325 L 53.7035175879397 37.185365735707215 L 53.76381909547739 37.22069792164118 L 53.824120603015075 37.25603010757514 L 53.88442211055276 37.29136229350911 L 53.94472361809045 37.32669447944308 L 54.00502512562814 37.36202666537704 L 54.06532663316583 37.39735885131101 L 54.12562814070352 37.43269103724498 L 54.185929648241206 37.46802322317894 L 54.246231155778894 37.503355409112906 L 54.30653266331658 37.53868759504687 L 54.36683417085427 37.57401978098084 L 54.42713567839196 37.60935196691481 L 54.48743718592965 37.644684152848775 L 54.54773869346734 37.680016338782735 L 54.608040201005025 37.7153485247167 L 54.66834170854271 37.75068071065067 L 54.7286432160804 37.78601289658464 L 54.78894472361809 37.821345082518604 L 54.84924623115578 37.85667726845257 L 54.90954773869347 37.89200945438654 L 54.969849246231156 37.9273416403205 L 55.030150753768844 37.962673826254466 L 55.09045226130653 37.99800601218843 L 55.15075376884422 38.0333381981224 L 55.21105527638191 38.06867038405637 L 55.2713567839196 38.104002569990335 L 55.33165829145729 38.139334755924295 L 55.391959798994975 38.17466694185826 L 55.45226130653266 38.20999912779223 L 55.51256281407035 38.2453313137262 L 55.57286432160804 38.28066349966016 L 55.633165829145725 38.315995685594125 L 55.69346733668342 38.3513278715281 L 55.753768844221106 38.38666005746206 L 55.814070351758794 38.421992243396026 L 55.87437185929648 38.457324429329994 L 55.93467336683417 38.49265661526396 L 55.99497487437186 38.52798880119793 L 56.05527638190955 38.563320987131895 L 56.11557788944724 38.598653173065856 L 56.175879396984925 38.63398535899982 L 56.23618090452261 38.66931754493379 L 56.2964824120603 38.70464973086776 L 56.35678391959799 38.73998191680172 L 56.417085427135675 38.775314102735685 L 56.47738693467337 38.81064628866965 L 56.537688442211056 38.84597847460362 L 56.597989949748744 38.881310660537586 L 56.65829145728643 38.916642846471554 L 56.71859296482412 38.951975032405514 L 56.778894472361806 38.98730721833948 L 56.8391959798995 39.02263940427345 L 56.89949748743719 39.057971590207416 L 56.959798994974875 39.09330377614138 L 57.02010050251256 39.12863596207535 L 57.08040201005025 39.16396814800931 L 57.14070351758794 39.19930033394328 L 57.201005025125625 39.234632519877245 L 57.26130653266331 39.26996470581121 L 57.321608040201006 39.30529689174518 L 57.381909547738694 39.34062907767915 L 57.44221105527638 39.375961263613114 L 57.50251256281407 39.411293449547074 L 57.562814070351756 39.44662563548104 L 57.62311557788945 39.48195782141501 L 57.68341708542714 39.517290007348976 L 57.743718592964825 39.55262219328294 L 57.80402010050251 39.58795437921691 L 57.8643216080402 39.62328656515087 L 57.92462311557789 39.65861875108484 L 57.984924623115575 39.693950937018805 L 58.04522613065326 39.72928312295277 L 58.10552763819096 39.76461530888674 L 58.165829145728644 39.79994749482071 L 58.22613065326633 39.83527968075467 L 58.28643216080402 39.870611866688634 L 58.346733668341706 39.9059440526226 L 58.4070351758794 39.94127623855657 L 58.46733668341709 39.976608424490536 L 58.527638190954775 40.0119406104245 L 58.58793969849246 40.04727279635846 L 58.64824120603015 40.08260498229243 L 58.70854271356784 40.1179371682264 L 58.768844221105525 40.153269354160365 L 58.82914572864321 40.188601540094325 L 58.88944723618091 40.2239337260283 L 58.949748743718594 40.25926591196226 L 59.01005025125628 40.29459809789623 L 59.07035175879397 40.329930283830194 L 59.130653266331656 40.36526246976416 L 59.19095477386935 40.40059465569813 L 59.25125628140704 40.435926841632096 L 59.311557788944725 40.47125902756606 L 59.37185929648241 40.50659121350002 L 59.4321608040201 40.54192339943399 L 59.49246231155779 40.57725558536796 L 59.552763819095475 40.612587771301925 L 59.61306532663316 40.647919957235885 L 59.67336683417085 40.68325214316985 L 59.733668341708544 40.71858432910382 L 59.79396984924623 40.75391651503779 L 59.85427135678392 40.789248700971754 L 59.914572864321606 40.82458088690572 L 59.97487437185929 40.85991307283968 L 60.03517587939699 40.895245258773656 L 60.095477386934675 40.930577444707616 L 60.15577889447236 40.96590963064158 L 60.21608040201005 41.00124181657555 L 60.27638190954774 41.03657400250952 L 60.336683417085425 41.07190618844348 L 60.39698492462311 41.107238374377445 L 60.4572864321608 41.14257056031141 L 60.517587939698494 41.17790274624538 L 60.57788944723618 41.21323493217935 L 60.63819095477387 41.248567118113314 L 60.698492462311556 41.283899304047274 L 60.75879396984924 41.31923148998124 L 60.81909547738694 41.354563675915216 L 60.879396984924625 41.389895861849176 L 60.93969849246231 41.42522804778314 L 61.0 41.46056023371711",
          "type": "path"
         }
        ],
        "template": {
         "data": {
          "bar": [
           {
            "error_x": {
             "color": "#2a3f5f"
            },
            "error_y": {
             "color": "#2a3f5f"
            },
            "marker": {
             "line": {
              "color": "white",
              "width": 0.5
             },
             "pattern": {
              "fillmode": "overlay",
              "size": 10,
              "solidity": 0.2
             }
            },
            "type": "bar"
           }
          ],
          "barpolar": [
           {
            "marker": {
             "line": {
              "color": "white",
              "width": 0.5
             },
             "pattern": {
              "fillmode": "overlay",
              "size": 10,
              "solidity": 0.2
             }
            },
            "type": "barpolar"
           }
          ],
          "box": [
           {
            "boxpoints": "outliers",
            "notched": false,
            "type": "box"
           }
          ],
          "carpet": [
           {
            "aaxis": {
             "endlinecolor": "#2a3f5f",
             "gridcolor": "#C8D4E3",
             "linecolor": "#C8D4E3",
             "minorgridcolor": "#C8D4E3",
             "startlinecolor": "#2a3f5f"
            },
            "baxis": {
             "endlinecolor": "#2a3f5f",
             "gridcolor": "#C8D4E3",
             "linecolor": "#C8D4E3",
             "minorgridcolor": "#C8D4E3",
             "startlinecolor": "#2a3f5f"
            },
            "type": "carpet"
           }
          ],
          "choropleth": [
           {
            "colorbar": {
             "outlinewidth": 0,
             "ticks": ""
            },
            "type": "choropleth"
           }
          ],
          "contour": [
           {
            "colorbar": {
             "outlinewidth": 0,
             "ticks": ""
            },
            "colorscale": [
             [
              0,
              "#0d0887"
             ],
             [
              0.1111111111111111,
              "#46039f"
             ],
             [
              0.2222222222222222,
              "#7201a8"
             ],
             [
              0.3333333333333333,
              "#9c179e"
             ],
             [
              0.4444444444444444,
              "#bd3786"
             ],
             [
              0.5555555555555556,
              "#d8576b"
             ],
             [
              0.6666666666666666,
              "#ed7953"
             ],
             [
              0.7777777777777778,
              "#fb9f3a"
             ],
             [
              0.8888888888888888,
              "#fdca26"
             ],
             [
              1,
              "#f0f921"
             ]
            ],
            "type": "contour"
           }
          ],
          "contourcarpet": [
           {
            "colorbar": {
             "outlinewidth": 0,
             "ticks": ""
            },
            "type": "contourcarpet"
           }
          ],
          "heatmap": [
           {
            "colorbar": {
             "outlinewidth": 0,
             "ticks": ""
            },
            "colorscale": [
             [
              0,
              "#0d0887"
             ],
             [
              0.1111111111111111,
              "#46039f"
             ],
             [
              0.2222222222222222,
              "#7201a8"
             ],
             [
              0.3333333333333333,
              "#9c179e"
             ],
             [
              0.4444444444444444,
              "#bd3786"
             ],
             [
              0.5555555555555556,
              "#d8576b"
             ],
             [
              0.6666666666666666,
              "#ed7953"
             ],
             [
              0.7777777777777778,
              "#fb9f3a"
             ],
             [
              0.8888888888888888,
              "#fdca26"
             ],
             [
              1,
              "#f0f921"
             ]
            ],
            "type": "heatmap"
           }
          ],
          "heatmapgl": [
           {
            "colorbar": {
             "outlinewidth": 0,
             "ticks": ""
            },
            "colorscale": [
             [
              0,
              "#0d0887"
             ],
             [
              0.1111111111111111,
              "#46039f"
             ],
             [
              0.2222222222222222,
              "#7201a8"
             ],
             [
              0.3333333333333333,
              "#9c179e"
             ],
             [
              0.4444444444444444,
              "#bd3786"
             ],
             [
              0.5555555555555556,
              "#d8576b"
             ],
             [
              0.6666666666666666,
              "#ed7953"
             ],
             [
              0.7777777777777778,
              "#fb9f3a"
             ],
             [
              0.8888888888888888,
              "#fdca26"
             ],
             [
              1,
              "#f0f921"
             ]
            ],
            "type": "heatmapgl"
           }
          ],
          "histogram": [
           {
            "marker": {
             "line": {
              "width": 1
             },
             "pattern": {
              "fillmode": "overlay",
              "size": 10,
              "solidity": 0.2
             }
            },
            "type": "histogram"
           }
          ],
          "histogram2d": [
           {
            "colorbar": {
             "outlinewidth": 0,
             "ticks": ""
            },
            "colorscale": [
             [
              0,
              "#0d0887"
             ],
             [
              0.1111111111111111,
              "#46039f"
             ],
             [
              0.2222222222222222,
              "#7201a8"
             ],
             [
              0.3333333333333333,
              "#9c179e"
             ],
             [
              0.4444444444444444,
              "#bd3786"
             ],
             [
              0.5555555555555556,
              "#d8576b"
             ],
             [
              0.6666666666666666,
              "#ed7953"
             ],
             [
              0.7777777777777778,
              "#fb9f3a"
             ],
             [
              0.8888888888888888,
              "#fdca26"
             ],
             [
              1,
              "#f0f921"
             ]
            ],
            "type": "histogram2d"
           }
          ],
          "histogram2dcontour": [
           {
            "colorbar": {
             "outlinewidth": 0,
             "ticks": ""
            },
            "colorscale": [
             [
              0,
              "#0d0887"
             ],
             [
              0.1111111111111111,
              "#46039f"
             ],
             [
              0.2222222222222222,
              "#7201a8"
             ],
             [
              0.3333333333333333,
              "#9c179e"
             ],
             [
              0.4444444444444444,
              "#bd3786"
             ],
             [
              0.5555555555555556,
              "#d8576b"
             ],
             [
              0.6666666666666666,
              "#ed7953"
             ],
             [
              0.7777777777777778,
              "#fb9f3a"
             ],
             [
              0.8888888888888888,
              "#fdca26"
             ],
             [
              1,
              "#f0f921"
             ]
            ],
            "type": "histogram2dcontour"
           }
          ],
          "mesh3d": [
           {
            "colorbar": {
             "outlinewidth": 0,
             "ticks": ""
            },
            "type": "mesh3d"
           }
          ],
          "parcoords": [
           {
            "line": {
             "colorbar": {
              "outlinewidth": 0,
              "ticks": ""
             }
            },
            "type": "parcoords"
           }
          ],
          "pie": [
           {
            "automargin": true,
            "type": "pie"
           }
          ],
          "scatter": [
           {
            "fillpattern": {
             "fillmode": "overlay",
             "size": 10,
             "solidity": 0.2
            },
            "marker": {
             "opacity": 0.8
            },
            "type": "scatter"
           }
          ],
          "scatter3d": [
           {
            "line": {
             "colorbar": {
              "outlinewidth": 0,
              "ticks": ""
             }
            },
            "marker": {
             "colorbar": {
              "outlinewidth": 0,
              "ticks": ""
             },
             "opacity": 0.8
            },
            "type": "scatter3d"
           }
          ],
          "scattercarpet": [
           {
            "marker": {
             "colorbar": {
              "outlinewidth": 0,
              "ticks": ""
             }
            },
            "type": "scattercarpet"
           }
          ],
          "scattergeo": [
           {
            "marker": {
             "colorbar": {
              "outlinewidth": 0,
              "ticks": ""
             }
            },
            "type": "scattergeo"
           }
          ],
          "scattergl": [
           {
            "marker": {
             "colorbar": {
              "outlinewidth": 0,
              "ticks": ""
             }
            },
            "type": "scattergl"
           }
          ],
          "scattermapbox": [
           {
            "marker": {
             "colorbar": {
              "outlinewidth": 0,
              "ticks": ""
             }
            },
            "type": "scattermapbox"
           }
          ],
          "scatterpolar": [
           {
            "marker": {
             "colorbar": {
              "outlinewidth": 0,
              "ticks": ""
             }
            },
            "type": "scatterpolar"
           }
          ],
          "scatterpolargl": [
           {
            "marker": {
             "colorbar": {
              "outlinewidth": 0,
              "ticks": ""
             }
            },
            "type": "scatterpolargl"
           }
          ],
          "scatterternary": [
           {
            "marker": {
             "colorbar": {
              "outlinewidth": 0,
              "ticks": ""
             }
            },
            "type": "scatterternary"
           }
          ],
          "surface": [
           {
            "colorbar": {
             "outlinewidth": 0,
             "ticks": ""
            },
            "colorscale": [
             [
              0,
              "#0d0887"
             ],
             [
              0.1111111111111111,
              "#46039f"
             ],
             [
              0.2222222222222222,
              "#7201a8"
             ],
             [
              0.3333333333333333,
              "#9c179e"
             ],
             [
              0.4444444444444444,
              "#bd3786"
             ],
             [
              0.5555555555555556,
              "#d8576b"
             ],
             [
              0.6666666666666666,
              "#ed7953"
             ],
             [
              0.7777777777777778,
              "#fb9f3a"
             ],
             [
              0.8888888888888888,
              "#fdca26"
             ],
             [
              1,
              "#f0f921"
             ]
            ],
            "type": "surface"
           }
          ],
          "table": [
           {
            "cells": {
             "fill": {
              "color": "#EBF0F8"
             },
             "line": {
              "color": "white"
             }
            },
            "header": {
             "fill": {
              "color": "#C8D4E3"
             },
             "line": {
              "color": "white"
             }
            },
            "type": "table"
           }
          ]
         },
         "layout": {
          "annotationdefaults": {
           "arrowcolor": "#2a3f5f",
           "arrowhead": 0,
           "arrowwidth": 1
          },
          "autotypenumbers": "strict",
          "coloraxis": {
           "colorbar": {
            "outlinewidth": 0,
            "ticks": ""
           }
          },
          "colorscale": {
           "diverging": [
            [
             0,
             "#8e0152"
            ],
            [
             0.1,
             "#c51b7d"
            ],
            [
             0.2,
             "#de77ae"
            ],
            [
             0.3,
             "#f1b6da"
            ],
            [
             0.4,
             "#fde0ef"
            ],
            [
             0.5,
             "#f7f7f7"
            ],
            [
             0.6,
             "#e6f5d0"
            ],
            [
             0.7,
             "#b8e186"
            ],
            [
             0.8,
             "#7fbc41"
            ],
            [
             0.9,
             "#4d9221"
            ],
            [
             1,
             "#276419"
            ]
           ],
           "sequential": [
            [
             0,
             "#0d0887"
            ],
            [
             0.1111111111111111,
             "#46039f"
            ],
            [
             0.2222222222222222,
             "#7201a8"
            ],
            [
             0.3333333333333333,
             "#9c179e"
            ],
            [
             0.4444444444444444,
             "#bd3786"
            ],
            [
             0.5555555555555556,
             "#d8576b"
            ],
            [
             0.6666666666666666,
             "#ed7953"
            ],
            [
             0.7777777777777778,
             "#fb9f3a"
            ],
            [
             0.8888888888888888,
             "#fdca26"
            ],
            [
             1,
             "#f0f921"
            ]
           ],
           "sequentialminus": [
            [
             0,
             "#0d0887"
            ],
            [
             0.1111111111111111,
             "#46039f"
            ],
            [
             0.2222222222222222,
             "#7201a8"
            ],
            [
             0.3333333333333333,
             "#9c179e"
            ],
            [
             0.4444444444444444,
             "#bd3786"
            ],
            [
             0.5555555555555556,
             "#d8576b"
            ],
            [
             0.6666666666666666,
             "#ed7953"
            ],
            [
             0.7777777777777778,
             "#fb9f3a"
            ],
            [
             0.8888888888888888,
             "#fdca26"
            ],
            [
             1,
             "#f0f921"
            ]
           ]
          },
          "colorway": [
           "#636efa",
           "#EF553B",
           "#00cc96",
           "#ab63fa",
           "#FFA15A",
           "#19d3f3",
           "#FF6692",
           "#B6E880",
           "#FF97FF",
           "#FECB52"
          ],
          "font": {
           "color": "#2a3f5f"
          },
          "geo": {
           "bgcolor": "white",
           "lakecolor": "white",
           "landcolor": "white",
           "showlakes": true,
           "showland": true,
           "subunitcolor": "#C8D4E3"
          },
          "height": 400,
          "hoverlabel": {
           "align": "left"
          },
          "hovermode": "closest",
          "mapbox": {
           "style": "light"
          },
          "margin": {
           "b": 2,
           "l": 2,
           "r": 2,
           "t": 30
          },
          "paper_bgcolor": "white",
          "plot_bgcolor": "white",
          "polar": {
           "angularaxis": {
            "gridcolor": "#EBF0F8",
            "linecolor": "#EBF0F8",
            "ticks": ""
           },
           "bgcolor": "white",
           "radialaxis": {
            "gridcolor": "#EBF0F8",
            "linecolor": "#EBF0F8",
            "ticks": ""
           }
          },
          "scene": {
           "camera": {
            "eye": {
             "x": 1.5,
             "y": 1.5,
             "z": 0.1
            }
           },
           "xaxis": {
            "backgroundcolor": "white",
            "gridcolor": "#DFE8F3",
            "gridwidth": 2,
            "linecolor": "#EBF0F8",
            "showbackground": true,
            "ticks": "",
            "zerolinecolor": "#EBF0F8"
           },
           "yaxis": {
            "backgroundcolor": "white",
            "gridcolor": "#DFE8F3",
            "gridwidth": 2,
            "linecolor": "#EBF0F8",
            "showbackground": true,
            "ticks": "",
            "zerolinecolor": "#EBF0F8"
           },
           "zaxis": {
            "backgroundcolor": "white",
            "gridcolor": "#DFE8F3",
            "gridwidth": 2,
            "linecolor": "#EBF0F8",
            "showbackground": true,
            "ticks": "",
            "zerolinecolor": "#EBF0F8"
           }
          },
          "shapedefaults": {
           "line": {
            "color": "#2a3f5f"
           }
          },
          "ternary": {
           "aaxis": {
            "gridcolor": "#DFE8F3",
            "linecolor": "#A2B1C6",
            "ticks": ""
           },
           "baxis": {
            "gridcolor": "#DFE8F3",
            "linecolor": "#A2B1C6",
            "ticks": ""
           },
           "bgcolor": "white",
           "caxis": {
            "gridcolor": "#DFE8F3",
            "linecolor": "#A2B1C6",
            "ticks": ""
           }
          },
          "title": {
           "x": 0.5
          },
          "xaxis": {
           "automargin": true,
           "gridcolor": "#EBF0F8",
           "linecolor": "#EBF0F8",
           "linewidth": 2,
           "showline": true,
           "ticks": "",
           "title": {
            "standoff": 15
           },
           "zerolinecolor": "#EBF0F8",
           "zerolinewidth": 2
          },
          "yaxis": {
           "automargin": true,
           "gridcolor": "#EBF0F8",
           "linecolor": "#EBF0F8",
           "linewidth": 2,
           "showline": true,
           "ticks": "",
           "title": {
            "standoff": 15
           },
           "zerolinecolor": "#EBF0F8",
           "zerolinewidth": 2
          }
         }
        },
        "xaxis": {
         "anchor": "y",
         "domain": [
          0,
          1
         ],
         "title": {
          "text": "harness size"
         }
        },
        "yaxis": {
         "anchor": "x",
         "domain": [
          0,
          1
         ],
         "title": {
          "text": "boot size"
         }
        }
       }
      }
     },
     "metadata": {},
     "output_type": "display_data"
    }
   ],
   "source": [
    "# Show a graph of the result. Don't worry about how this works for now:\n",
    "graphing.scatter_2D(\n",
    "    dataset,\n",
    "    label_x=\"harness_size\", \n",
    "    label_y=\"boot_size\",\n",
    "    trendline=lambda x: fitted_model.params[1] * x + fitted_model.params[0]\n",
    ")"
   ]
  },
  {
   "cell_type": "markdown",
   "metadata": {},
   "source": [
    "The graph above shows our original data as circles with a red line through it. The red line shows our _model_.\n",
    "\n",
    "We can look at this line to understand our model. For example, we can see that as harness size increases, so will the estimated boot size. "
   ]
  },
  {
   "cell_type": "markdown",
   "metadata": {},
   "source": [
    "## Use the model\n",
    "\n",
    "Now that we've finished training, we can use our model to predict a dog's boot size from their harness size. \n",
    "\n",
    "For example, by looking at the red line, we can see that that a harness size of `52.5` (x axis) corresponds to a boot size of about `36.5` (y axis).\n",
    "\n",
    "We don't have to do this by eye though. We can use the model in our program to predict any boot size we like. Run the following code to see how we can use our model now that it's trained:"
   ]
  },
  {
   "cell_type": "code",
   "execution_count": 15,
   "metadata": {},
   "outputs": [
    {
     "name": "stdout",
     "output_type": "stream",
     "text": [
      "Estimated 'approximate_boot_size': 36.480194191441804\n"
     ]
    }
   ],
   "source": [
    "# harness_size states the size of the harness we are interested in:\n",
    "harness_size = { 'harness_size' : [52.5] }\n",
    "\n",
    "# Use the model to predict what size of boots the dog will fit:\n",
    "approximate_boot_size = fitted_model.predict(harness_size)\n",
    "\n",
    "# Print the result:\n",
    "print(\"Estimated 'approximate_boot_size':\", approximate_boot_size[0])"
   ]
  },
  {
   "cell_type": "markdown",
   "metadata": {},
   "source": [
    "If you'd like, change the value of `52.5` in `harness_size` to a new value and run the block above to see the model in action."
   ]
  },
  {
   "cell_type": "markdown",
   "metadata": {},
   "source": [
    "## Summary\n",
    "\n",
    "Well done! You've trained your first model. We've demonstrated some topics here without detailed explanation in order to just get your feet wet. In later units, we'll explain many of these topics in more detail."
   ]
  }
 ],
 "metadata": {
  "kernelspec": {
   "display_name": "Python 3",
   "language": "python",
   "name": "python3"
  },
  "language_info": {
   "codemirror_mode": {
    "name": "ipython",
    "version": 3
   },
   "file_extension": ".py",
   "mimetype": "text/x-python",
   "name": "python",
   "nbconvert_exporter": "python",
   "pygments_lexer": "ipython3",
   "version": "3.11.0"
  },
  "orig_nbformat": 4
 },
 "nbformat": 4,
 "nbformat_minor": 2
}
