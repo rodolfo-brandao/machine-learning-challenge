{
  "cells": [
    {
      "cell_type": "markdown",
      "metadata": {
        "id": "PNGbzGcx-JSS"
      },
      "source": [
        "# Exercise: Train and Run Your First Model\n",
        "\n",
        "We've learned that models are computer code that processes information to make a prediction or a decision. Here, we'll train a model to guess a comfortable boot size for a dog, based on the size of the harness that fits them.\n",
        "\n",
        "In the examples below, there is no need to edit any code. Try to read it, understand it, then press the run button to run it. As always with these notebooks, it is vitally important that these code blocks are run in the correct order, and nothing is missed.\n",
        "\n",
        "Note: If you've never used the Jupyter Notebooks environment before, there are a few things you should be aware of:\n",
        "- Notebooks are made up of cells. Some cells (like this one) contain markdown text, while others (like the one beneath this one) contain code.\n",
        "- You can run each code cell by using the ► Run button. the ► Run button will show up when you hover over the cell.\n",
        "- The output from each code cell will be displayed immediately below the cell.\n",
        "- Even though the code cells can be run individually, some variables used in the code are global to the notebook. That means that you should run all of the code cells in order. There may be dependencies between code cells, so if you skip a cell, subsequent cells might not run correctly."
      ]
    },
    {
      "cell_type": "markdown",
      "metadata": {
        "id": "rbykSk3i-JSU"
      },
      "source": [
        "## Setup"
      ]
    },
    {
      "cell_type": "code",
      "execution_count": null,
      "metadata": {
        "id": "aZV7dqs8-JSU"
      },
      "outputs": [],
      "source": [
        "# Upgrade pip:\n",
        "!pip install --upgrade pip\n",
        "\n",
        "# Install dependencies:\n",
        "!pip install statsmodels\n",
        "!pip install plotly\n",
        "\n",
        "!wget https://raw.githubusercontent.com/MicrosoftDocs/mslearn-introduction-to-machine-learning/main/graphing.py\n",
        "!wget https://raw.githubusercontent.com/MicrosoftDocs/mslearn-introduction-to-machine-learning/main/Data/doggy-boot-harness.csv"
      ]
    },
    {
      "cell_type": "markdown",
      "metadata": {
        "id": "C-xU4_Tn-JSV"
      },
      "source": [
        "## Imports"
      ]
    },
    {
      "cell_type": "code",
      "execution_count": null,
      "metadata": {
        "id": "FyNlBpJJ-JSW"
      },
      "outputs": [],
      "source": [
        "import pandas as pd\n",
        "import statsmodels.formula.api as smf\n",
        "import graphing"
      ]
    },
    {
      "cell_type": "markdown",
      "metadata": {
        "id": "o1AFRgiE-JSW"
      },
      "source": [
        "## Preparing Data\n",
        "The first thing we do with a model is load data. We'll cover this in more detail in a later exercise. For now, we'll just write our data directly in our code. Review and run the following code to get started:"
      ]
    },
    {
      "cell_type": "code",
      "execution_count": null,
      "metadata": {
        "id": "94DDLZ8D-JSW"
      },
      "outputs": [],
      "source": [
        "# Make a dictionary of data for boot sizes and harness size in cm:\n",
        "data = {\n",
        "    'boot_size' : [\n",
        "        39, 38, 37, 39, 38, 35, 37, 36, 35, 40,\n",
        "        40, 36, 38, 39, 42, 42, 36, 36, 35, 41,\n",
        "        42, 38, 37, 35, 40, 36, 35, 39, 41, 37,\n",
        "        35, 41, 39, 41, 42, 42, 36, 37, 37, 39,\n",
        "        42, 35, 36, 41, 41, 41, 39, 39, 35, 39\n",
        "    ],\n",
        "    'harness_size': [\n",
        "        58, 58, 52, 58, 57, 52, 55, 53, 49, 54,\n",
        "        59, 56, 53, 58, 57, 58, 56, 51, 50, 59,\n",
        "        59, 59, 55, 50, 55, 52, 53, 54, 61, 56,\n",
        "        55, 60, 57, 56, 61, 58, 53, 57, 57, 55,\n",
        "        60, 51, 52, 56, 55, 57, 58, 57, 51, 59\n",
        "    ]\n",
        "}\n",
        "\n",
        "# Convert it into a table using pandas:\n",
        "dataset = pd.DataFrame(data)\n",
        "\n",
        "# Print the data.\n",
        "# In normal python we would write print(dataset), but in Jupyter notebooks,\n",
        "# if we simple write the name of the variable and it is printed nicely:\n",
        "dataset"
      ]
    },
    {
      "cell_type": "markdown",
      "metadata": {
        "id": "-mBfYcG3-JSX"
      },
      "source": [
        "As you can see, we have the sizes of boots and harnesses for 50 avalanche dogs.\n",
        "\n",
        "We want to use harness size to estimate boot size. This means harness_size is our input. We want a model that will process the input and make its own estimations of the boot size (output)."
      ]
    },
    {
      "cell_type": "markdown",
      "metadata": {
        "id": "TzmPZb1M-JSX"
      },
      "source": [
        "## Select a Model\n",
        "The first thing we must do is select a model. We're just getting started, so we'll start with a very simple model called OLS. This is just a straight line (sometimes called a trendline).\n",
        "\n",
        "Let's use an existing library to create our model, but we won't train it yet."
      ]
    },
    {
      "cell_type": "code",
      "execution_count": null,
      "metadata": {
        "id": "-liz9IC6-JSY"
      },
      "outputs": [],
      "source": [
        "# First, we define our formula using a special syntax. This says that boot_size is explained by harness_size:\n",
        "formula = \"boot_size ~ harness_size\"\n",
        "\n",
        "# Create the model, but don't train it yet:\n",
        "model = smf.ols(formula = formula, data = dataset)\n",
        "\n",
        "# Note that we have created our model but it does not have internal parameters set yet\n",
        "if not hasattr(model, 'params'):\n",
        "    print(\"Model selected but it does not have parameters set. We need to train it!\")"
      ]
    },
    {
      "cell_type": "markdown",
      "metadata": {
        "id": "fBvCweyy-JSZ"
      },
      "source": [
        "## Train our model\n",
        "OLS models have two parameters (a slope and an offset), but these haven't been set in our model yet. We need to train (fit) our model to find these values so that the model can reliably estimate dogs' boot size based on their harness size.\n",
        "\n",
        "The following code fits our model to data you've now seen:"
      ]
    },
    {
      "cell_type": "code",
      "execution_count": null,
      "metadata": {
        "id": "FqLE5OPr-JSZ"
      },
      "outputs": [],
      "source": [
        "# Train (fit) the model so that it creates a line that\n",
        "# fits our data. This method does the hard work for us.\n",
        "# We will look at how this method works in a later unit:\n",
        "fitted_model = model.fit()\n",
        "\n",
        "# Print information about our model now it has been fit:\n",
        "print(\n",
        "        \"The following model parameters have been found:\\n\" +\n",
        "        f\"Line slope: {fitted_model.params[1]}\\n\" +\n",
        "        f\"Line Intercept: {fitted_model.params[0]}\"\n",
        ")"
      ]
    },
    {
      "cell_type": "markdown",
      "metadata": {
        "id": "57gufAKS-JSZ"
      },
      "source": [
        "Notice how training the model set its parameters.\n",
        "\n",
        "We could interpret these directly, but it's simpler to see it as a graph:"
      ]
    },
    {
      "cell_type": "code",
      "execution_count": null,
      "metadata": {
        "id": "_SBUGN2N-JSZ"
      },
      "outputs": [],
      "source": [
        "# Show a graph of the result. Don't worry about how this works for now:\n",
        "graphing.scatter_2D(\n",
        "    dataset,\n",
        "    label_x=\"harness_size\",\n",
        "    label_y=\"boot_size\",\n",
        "    trendline=lambda x: fitted_model.params[1] * x + fitted_model.params[0]\n",
        ")"
      ]
    },
    {
      "cell_type": "markdown",
      "metadata": {
        "id": "MhH-3H1y-JSa"
      },
      "source": [
        "The graph above shows our original data as circles with a red line through it. The red line shows our _model_.\n",
        "\n",
        "We can look at this line to understand our model. For example, we can see that as harness size increases, so will the estimated boot size."
      ]
    },
    {
      "cell_type": "markdown",
      "metadata": {
        "id": "fJZc6j3Y-JSa"
      },
      "source": [
        "## Use the model\n",
        "\n",
        "Now that we've finished training, we can use our model to predict a dog's boot size from their harness size.\n",
        "\n",
        "For example, by looking at the red line, we can see that that a harness size of `52.5` (x axis) corresponds to a boot size of about `36.5` (y axis).\n",
        "\n",
        "We don't have to do this by eye though. We can use the model in our program to predict any boot size we like. Run the following code to see how we can use our model now that it's trained:"
      ]
    },
    {
      "cell_type": "code",
      "execution_count": null,
      "metadata": {
        "id": "CuUb-gwu-JSa"
      },
      "outputs": [],
      "source": [
        "# harness_size states the size of the harness we are interested in:\n",
        "harness_size = { 'harness_size' : [52.5] }\n",
        "\n",
        "# Use the model to predict what size of boots the dog will fit:\n",
        "approximate_boot_size = fitted_model.predict(harness_size)\n",
        "\n",
        "# Print the result:\n",
        "print(\"Estimated 'approximate_boot_size':\", approximate_boot_size[0])"
      ]
    },
    {
      "cell_type": "markdown",
      "metadata": {
        "id": "-4BLSP4d-JSa"
      },
      "source": [
        "If you'd like, change the value of `52.5` in `harness_size` to a new value and run the block above to see the model in action."
      ]
    },
    {
      "cell_type": "markdown",
      "metadata": {
        "id": "7pO3a4Up-JSa"
      },
      "source": [
        "## Summary\n",
        "\n",
        "Well done! You've trained your first model. We've demonstrated some topics here without detailed explanation in order to just get your feet wet. In later units, we'll explain many of these topics in more detail."
      ]
    }
  ],
  "metadata": {
    "kernelspec": {
      "display_name": "Python 3",
      "language": "python",
      "name": "python3"
    },
    "language_info": {
      "codemirror_mode": {
        "name": "ipython",
        "version": 3
      },
      "file_extension": ".py",
      "mimetype": "text/x-python",
      "name": "python",
      "nbconvert_exporter": "python",
      "pygments_lexer": "ipython3",
      "version": "3.11.0"
    },
    "orig_nbformat": 4,
    "colab": {
      "provenance": [],
      "toc_visible": true
    }
  },
  "nbformat": 4,
  "nbformat_minor": 0
}